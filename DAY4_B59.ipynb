{
 "cells": [
  {
   "cell_type": "code",
   "execution_count": 4,
   "id": "1377a0b9",
   "metadata": {},
   "outputs": [],
   "source": [
    "students = ['arvind','shafi','john','david','nusrat','aradhya','nitya','asna']"
   ]
  },
  {
   "cell_type": "code",
   "execution_count": 5,
   "id": "599816ee",
   "metadata": {},
   "outputs": [
    {
     "name": "stdout",
     "output_type": "stream",
     "text": [
      "['arvind', 'shafi', 'john', 'david', 'nusrat', 'aradhya', 'nitya', 'asna']\n"
     ]
    }
   ],
   "source": [
    "print(students)"
   ]
  },
  {
   "cell_type": "code",
   "execution_count": 6,
   "id": "7c026139",
   "metadata": {},
   "outputs": [
    {
     "data": {
      "text/plain": [
       "list"
      ]
     },
     "execution_count": 6,
     "metadata": {},
     "output_type": "execute_result"
    }
   ],
   "source": [
    "type(students)"
   ]
  },
  {
   "cell_type": "code",
   "execution_count": 7,
   "id": "64b26a0d",
   "metadata": {},
   "outputs": [
    {
     "name": "stdout",
     "output_type": "stream",
     "text": [
      "john\n"
     ]
    }
   ],
   "source": [
    "print(students[2])"
   ]
  },
  {
   "cell_type": "code",
   "execution_count": 8,
   "id": "20609d4e",
   "metadata": {},
   "outputs": [
    {
     "name": "stdout",
     "output_type": "stream",
     "text": [
      "aradhya\n"
     ]
    }
   ],
   "source": [
    "print(students[5])"
   ]
  },
  {
   "cell_type": "code",
   "execution_count": 9,
   "id": "c18f6fd2",
   "metadata": {},
   "outputs": [
    {
     "name": "stdout",
     "output_type": "stream",
     "text": [
      "Aradhya\n"
     ]
    }
   ],
   "source": [
    "print(students[5].title())"
   ]
  },
  {
   "cell_type": "code",
   "execution_count": 10,
   "id": "478f3dbb",
   "metadata": {},
   "outputs": [],
   "source": [
    "students.append('sachin')\n"
   ]
  },
  {
   "cell_type": "code",
   "execution_count": 13,
   "id": "b0410d1b",
   "metadata": {},
   "outputs": [
    {
     "name": "stdout",
     "output_type": "stream",
     "text": [
      "['arvind', 'shafi', 'john', 'david', 'nusrat', 'aradhya', 'nitya', 'asna', 'sachin', 'lavanyaa']\n"
     ]
    }
   ],
   "source": [
    "print(students)"
   ]
  },
  {
   "cell_type": "code",
   "execution_count": 12,
   "id": "c574c5c2",
   "metadata": {},
   "outputs": [],
   "source": [
    "students.append('lavanyaa')"
   ]
  },
  {
   "cell_type": "code",
   "execution_count": 14,
   "id": "8fd71985",
   "metadata": {},
   "outputs": [
    {
     "name": "stdout",
     "output_type": "stream",
     "text": [
      "['arvind', 'shafi', 'john', 'david', 'nusrat', 'aradhya', 'nitya', 'asna', 'sachin', 'lavanyaa']\n"
     ]
    }
   ],
   "source": [
    "print(students)"
   ]
  },
  {
   "cell_type": "code",
   "execution_count": 15,
   "id": "9ddbaf4f",
   "metadata": {},
   "outputs": [],
   "source": [
    "students.insert(2,'charan')"
   ]
  },
  {
   "cell_type": "code",
   "execution_count": 16,
   "id": "2d43cbdd",
   "metadata": {},
   "outputs": [
    {
     "name": "stdout",
     "output_type": "stream",
     "text": [
      "['arvind', 'shafi', 'charan', 'john', 'david', 'nusrat', 'aradhya', 'nitya', 'asna', 'sachin', 'lavanyaa']\n"
     ]
    }
   ],
   "source": [
    "print(students)"
   ]
  },
  {
   "cell_type": "code",
   "execution_count": 17,
   "id": "fb182473",
   "metadata": {},
   "outputs": [
    {
     "name": "stdout",
     "output_type": "stream",
     "text": [
      "charan\n"
     ]
    }
   ],
   "source": [
    "print(students[2])"
   ]
  },
  {
   "cell_type": "code",
   "execution_count": 20,
   "id": "b39355fd",
   "metadata": {},
   "outputs": [
    {
     "name": "stdout",
     "output_type": "stream",
     "text": [
      "['arvind', 'shafi', 'charan', 'john', 'david', 'nusrat', 'aradhya', 'nitya', 'asna', 'sachin', 'lavanyaa']\n"
     ]
    }
   ],
   "source": [
    "print(students)"
   ]
  },
  {
   "cell_type": "code",
   "execution_count": 27,
   "id": "c805fcc7",
   "metadata": {},
   "outputs": [
    {
     "name": "stdout",
     "output_type": "stream",
     "text": [
      "chaitanyaa\n"
     ]
    }
   ],
   "source": [
    "print(students[2])"
   ]
  },
  {
   "cell_type": "code",
   "execution_count": 21,
   "id": "92aa0eb3",
   "metadata": {},
   "outputs": [],
   "source": [
    "students[2 ]= 'chaitanyaa'"
   ]
  },
  {
   "cell_type": "code",
   "execution_count": 23,
   "id": "197abf87",
   "metadata": {},
   "outputs": [
    {
     "name": "stdout",
     "output_type": "stream",
     "text": [
      "chaitanyaa\n"
     ]
    }
   ],
   "source": [
    "print(students[2])"
   ]
  },
  {
   "cell_type": "code",
   "execution_count": 24,
   "id": "7f408f0f",
   "metadata": {},
   "outputs": [
    {
     "name": "stdout",
     "output_type": "stream",
     "text": [
      "['arvind', 'shafi', 'chaitanyaa', 'john', 'david', 'nusrat', 'aradhya', 'nitya', 'asna', 'sachin', 'lavanyaa']\n"
     ]
    }
   ],
   "source": [
    "print(students)"
   ]
  },
  {
   "cell_type": "code",
   "execution_count": 29,
   "id": "5c435b8f",
   "metadata": {},
   "outputs": [],
   "source": [
    "del students[4]"
   ]
  },
  {
   "cell_type": "code",
   "execution_count": 30,
   "id": "c7f62a73",
   "metadata": {},
   "outputs": [
    {
     "name": "stdout",
     "output_type": "stream",
     "text": [
      "['arvind', 'shafi', 'chaitanyaa', 'john', 'nusrat', 'aradhya', 'nitya', 'asna', 'sachin', 'lavanyaa']\n"
     ]
    }
   ],
   "source": [
    "print(students)"
   ]
  },
  {
   "cell_type": "code",
   "execution_count": null,
   "id": "7ccee1f9",
   "metadata": {},
   "outputs": [],
   "source": []
  }
 ],
 "metadata": {
  "kernelspec": {
   "display_name": "Python 3 (ipykernel)",
   "language": "python",
   "name": "python3"
  },
  "language_info": {
   "codemirror_mode": {
    "name": "ipython",
    "version": 3
   },
   "file_extension": ".py",
   "mimetype": "text/x-python",
   "name": "python",
   "nbconvert_exporter": "python",
   "pygments_lexer": "ipython3",
   "version": "3.9.12"
  }
 },
 "nbformat": 4,
 "nbformat_minor": 5
}
