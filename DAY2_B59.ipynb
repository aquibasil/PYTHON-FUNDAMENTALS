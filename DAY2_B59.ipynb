{
 "cells": [
  {
   "cell_type": "code",
   "execution_count": 1,
   "id": "c57cd45b",
   "metadata": {},
   "outputs": [],
   "source": [
    "x=2\n",
    "y=3"
   ]
  },
  {
   "cell_type": "code",
   "execution_count": 2,
   "id": "377a0e49",
   "metadata": {},
   "outputs": [
    {
     "name": "stdout",
     "output_type": "stream",
     "text": [
      "5\n"
     ]
    }
   ],
   "source": [
    "z=x+y\n",
    "print(z)"
   ]
  },
  {
   "cell_type": "code",
   "execution_count": 3,
   "id": "bdea9863",
   "metadata": {},
   "outputs": [
    {
     "name": "stdout",
     "output_type": "stream",
     "text": [
      "aquib\n"
     ]
    }
   ],
   "source": [
    "firstname='aquib'\n",
    "print(firstname)"
   ]
  },
  {
   "cell_type": "code",
   "execution_count": 4,
   "id": "da643b11",
   "metadata": {},
   "outputs": [
    {
     "name": "stdout",
     "output_type": "stream",
     "text": [
      "aquib\n"
     ]
    }
   ],
   "source": [
    "name1='aquib'\n",
    "print(name1)"
   ]
  },
  {
   "cell_type": "code",
   "execution_count": 5,
   "id": "bbd0fe1d",
   "metadata": {},
   "outputs": [
    {
     "name": "stdout",
     "output_type": "stream",
     "text": [
      "aquib\n"
     ]
    }
   ],
   "source": [
    "name = 'aquib'\n",
    "print(name)"
   ]
  },
  {
   "cell_type": "code",
   "execution_count": 6,
   "id": "c35ffc12",
   "metadata": {},
   "outputs": [
    {
     "name": "stdout",
     "output_type": "stream",
     "text": [
      "aquib\n"
     ]
    }
   ],
   "source": [
    "name=\"aquib\"\n",
    "print(name)"
   ]
  },
  {
   "cell_type": "code",
   "execution_count": 7,
   "id": "97f0d811",
   "metadata": {},
   "outputs": [
    {
     "name": "stdout",
     "output_type": "stream",
     "text": [
      "aquib\n"
     ]
    }
   ],
   "source": [
    "name=\"\"\"aquib\"\"\"\n",
    "print(name)\n"
   ]
  },
  {
   "cell_type": "code",
   "execution_count": null,
   "id": "06e2e394",
   "metadata": {},
   "outputs": [],
   "source": []
  }
 ],
 "metadata": {
  "kernelspec": {
   "display_name": "Python 3 (ipykernel)",
   "language": "python",
   "name": "python3"
  },
  "language_info": {
   "codemirror_mode": {
    "name": "ipython",
    "version": 3
   },
   "file_extension": ".py",
   "mimetype": "text/x-python",
   "name": "python",
   "nbconvert_exporter": "python",
   "pygments_lexer": "ipython3",
   "version": "3.9.12"
  }
 },
 "nbformat": 4,
 "nbformat_minor": 5
}
